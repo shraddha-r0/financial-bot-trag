{
 "cells": [
  {
   "cell_type": "code",
   "execution_count": 1,
   "id": "6cfc6b4f",
   "metadata": {},
   "outputs": [
    {
     "name": "stdout",
     "output_type": "stream",
     "text": [
      "{'type': 'scalar_aggregate', 'columns': ['total_takeout'], 'row_count': 1, 'elapsed_ms': 2.238035202026367, 'data': {'total_takeout': 26372734.670000006}}\n",
      "{'type': 'grouped_aggregate', 'columns': ['category', 'total'], 'row_count': 8, 'elapsed_ms': 0.759124755859375, 'data': [{'category': 'Home & Utilities', 'total': 9105689.0}, {'category': 'Health & Personal Care', 'total': 6268651.050000001}, {'category': 'Food & Drinks', 'total': 4945899.0}, {'category': 'Transport', 'total': 4408216.0}, {'category': 'Education', 'total': 681014.1799999999}, {'category': 'Leisure', 'total': 431748.44}, {'category': 'Clothing & Footwear', 'total': 425329.0}, {'category': 'Gifts', 'total': 106188.0}]}\n",
      "{'type': 'detail', 'columns': ['date', 'category', 'tags', 'expense', 'amount_clp', 'description', 'day'], 'row_count': 5, 'elapsed_ms': 0.3979206085205078, 'data': {'preview': [{'date': '2025-07-01', 'category': 'Food & Drinks', 'tags': 'coffee & tea', 'expense': 43200.0, 'amount_clp': 43200.0, 'description': 'none', 'day': 'Tuesday'}, {'date': '2025-07-02', 'category': 'Food & Drinks', 'tags': 'coffee & tea', 'expense': 10000.0, 'amount_clp': 10000.0, 'description': 'none', 'day': 'Wednesday'}, {'date': '2025-07-02', 'category': 'Health & Personal Care', 'tags': 'gym/exercise', 'expense': 158000.0, 'amount_clp': 158000.0, 'description': 'VFIT gym', 'day': 'Wednesday'}, {'date': '2025-07-02', 'category': 'Food & Drinks', 'tags': 'restaurants', 'expense': 7817.0, 'amount_clp': 7817.0, 'description': 'none', 'day': 'Wednesday'}, {'date': '2025-07-03', 'category': 'Food & Drinks', 'tags': 'restaurants', 'expense': 11719.0, 'amount_clp': 11719.0, 'description': 'none', 'day': 'Thursday'}], 'totals': {'total_amount_clp': 230736.0, 'total_expense': 230736.0}}}\n"
     ]
    }
   ],
   "source": [
    "from executor import run_sql\n",
    "from packager import package_result\n",
    "\n",
    "res = run_sql(\"SELECT SUM(expense) AS total_takeout FROM expenses\")\n",
    "print(package_result(res))\n",
    "\n",
    "res = run_sql(\"SELECT category, SUM(expense) AS total FROM expenses GROUP BY category\")\n",
    "print(package_result(res))\n",
    "\n",
    "res = run_sql(\"SELECT * FROM expenses LIMIT 5\")\n",
    "print(package_result(res))"
   ]
  },
  {
   "cell_type": "code",
   "execution_count": 1,
   "id": "aa12939a",
   "metadata": {},
   "outputs": [
    {
     "name": "stdout",
     "output_type": "stream",
     "text": [
      "Q: How much did I spend on takeout last month?\n",
      "SQL: SELECT SUM(expense) AS total_takeout\n",
      "FROM expenses\n",
      "WHERE date >= date('now', 'start of month', '-1 month')\n",
      "  AND date < date('now', 'start of month')\n",
      "  AND tags LIKE '%restaurants%'\n",
      "Summary: You spent **$424,304.00** on takeout last month.\n"
     ]
    }
   ],
   "source": [
    "from sqlgen import generate_sql\n",
    "from executor import run_sql\n",
    "from packager import package_result\n",
    "from summarizer import summarize_result\n",
    "\n",
    "question = \"How much did I spend on takeout last month?\"\n",
    "sql = generate_sql(question)\n",
    "exec_res = run_sql(sql)\n",
    "packaged = package_result(exec_res)\n",
    "summary = summarize_result(question, sql, packaged)\n",
    "\n",
    "print(\"Q:\", question)\n",
    "print(\"SQL:\", sql)\n",
    "print(\"Summary:\", summary)"
   ]
  },
  {
   "cell_type": "code",
   "execution_count": 3,
   "id": "f8d85e97",
   "metadata": {},
   "outputs": [
    {
     "name": "stdout",
     "output_type": "stream",
     "text": [
      "{\"expenses\": {\"columns\": [{\"name\": \"date\", \"type\": \"DATE\"}, {\"name\": \"category\", \"type\": \"TEXT\"}, {\"name\": \"tags\", \"type\": \"TEXT\"}, {\"name\": \"expense\", \"type\": \"REAL\"}, {\"name\": \"amount_clp\", \"type\": \"REAL\"}, {\"name\": \"description\", \"type\": \"TEXT\"}, {\"name\": \"day\", \"type\": \"TEXT\"}], \"samples\": [{\"date\": \"2025-07-01\", \"category\": \"Food & Drinks\", \"tags\": \"coffee & tea\", \"expense\": 43200.0, \"amount_clp\": 43200.0, \"description\": \"none\", \"day\": \"Tuesday\"}, {\"date\": \"2025-07-02\", \"category\": \"Food & Drinks\", \"tags\": \"coffee & tea\", \"expense\": 10000.0, \"amount_clp\": 10000.0, \"description\": \"none\", \"day\": \"Wednesday\"}, {\"date\": \"2025-07-02\", \"category\": \"Health & Personal Care\", \"tags\": \"gym/exercise\", \"expense\": 158000.0, \"amount_clp\": 158000.0, \"description\": \"VFIT gym\", \"day\": \"Wednesday\"}, {\"date\": \"2025-07-02\", \"category\": \"Food & Drinks\", \"tags\": \"restaurants\", \"expense\": 7817.0, \"amount_clp\": 7817.0, \"description\": \"none\", \"day\": \"Wednesday\"}, {\"date\": \"2025-07-03\", \"category\": \"Food & Drinks\", \"tags\": \"restaurants\", \"expense\": 11719.0, \"amount_clp\": 11719.0, \"description\": \"none\", \"day\": \"Thursday\"}]}, \"incomes\": {\"columns\": [{\"name\": \"date\", \"type\": \"DATE\"}, {\"name\": \"category\", \"type\": \"TEXT\"}, {\"name\": \"tags\", \"type\": \"TEXT\"}, {\"name\": \"income\", \"type\": \"REAL\"}, {\"name\": \"amount_clp\", \"type\": \"REAL\"}, {\"name\": \"description\", \"type\": \"TEXT\"}, {\"name\": \"day\", \"type\": \"TEXT\"}], \"samples\": [{\"date\": \"2025-07-04\", \"category\": \"Other\", \"tags\": \"none\", \"income\": 70000.0, \"amount_clp\": 70000.0, \"description\": \"Parking rent\", \"day\": \"Friday\"}, {\"date\": \"2025-07-25\", \"category\": \"Salary\", \"tags\": \"BHP\", \"income\": 6162765.0, \"amount_clp\": 6162765.0, \"description\": \"none\", \"day\": \"Friday\"}, {\"date\": \"2025-06-25\", \"category\": \"Salary\", \"tags\": \"BHP\", \"income\": 4217609.0, \"amount_clp\": 4217609.0, \"description\": \"none\", \"day\": \"Wednesday\"}, {\"date\": \"2025-04-25\", \"category\": \"Salary\", \"tags\": \"BHP\", \"income\": 4252287.0, \"amount_clp\": 4252287.0, \"description\": \"none\", \"day\": \"Friday\"}, {\"date\": \"2025-02-14\", \"category\": \"From Dubai\", \"tags\": \"none\", \"income\": 2978.0, \"amount_clp\": 2832644.0, \"description\": \"none\", \"day\": \"Friday\"}]}}\n"
     ]
    }
   ],
   "source": [
    "from sqlgen import _load_schema_json\n",
    "print(_load_schema_json())"
   ]
  },
  {
   "cell_type": "code",
   "execution_count": 4,
   "id": "9677d33e",
   "metadata": {},
   "outputs": [
    {
     "name": "stdout",
     "output_type": "stream",
     "text": [
      "SELECT * FROM expenses LIMIT 5\n"
     ]
    }
   ],
   "source": [
    "sql = generate_sql(\"Show 5 rows from expenses\")\n",
    "print(sql)"
   ]
  },
  {
   "cell_type": "code",
   "execution_count": null,
   "id": "56b45e66",
   "metadata": {},
   "outputs": [],
   "source": []
  }
 ],
 "metadata": {
  "kernelspec": {
   "display_name": "toshl-venv",
   "language": "python",
   "name": "python3"
  },
  "language_info": {
   "codemirror_mode": {
    "name": "ipython",
    "version": 3
   },
   "file_extension": ".py",
   "mimetype": "text/x-python",
   "name": "python",
   "nbconvert_exporter": "python",
   "pygments_lexer": "ipython3",
   "version": "3.11.7"
  }
 },
 "nbformat": 4,
 "nbformat_minor": 5
}
